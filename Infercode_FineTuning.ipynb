{
  "cells": [
    {
      "cell_type": "markdown",
      "metadata": {
        "id": "view-in-github",
        "colab_type": "text"
      },
      "source": [
        "<a href=\"https://colab.research.google.com/github/zakariamejdoul/ecommerce-microservices/blob/master/Infercode_FineTuning.ipynb\" target=\"_parent\"><img src=\"https://colab.research.google.com/assets/colab-badge.svg\" alt=\"Open In Colab\"/></a>"
      ]
    },
    {
      "cell_type": "markdown",
      "metadata": {
        "id": "OEWmlns1Pfpj"
      },
      "source": [
        "# Dataset Pre-processing\n"
      ]
    },
    {
      "cell_type": "markdown",
      "metadata": {
        "id": "dXdEWsgZN131"
      },
      "source": [
        "Load code2aes2vec repository :"
      ]
    },
    {
      "cell_type": "code",
      "execution_count": null,
      "metadata": {
        "colab": {
          "base_uri": "https://localhost:8080/"
        },
        "id": "goMVs6POycNh",
        "outputId": "b2e6afaf-2333-44b3-d27b-236ec5111e17"
      },
      "outputs": [
        {
          "output_type": "stream",
          "name": "stdout",
          "text": [
            "Cloning into 'code2aes2vec'...\n",
            "remote: Enumerating objects: 97, done.\u001b[K\n",
            "remote: Counting objects: 100% (97/97), done.\u001b[K\n",
            "remote: Compressing objects: 100% (72/72), done.\u001b[K\n",
            "remote: Total 97 (delta 33), reused 82 (delta 22), pack-reused 0\u001b[K\n",
            "Unpacking objects: 100% (97/97), done.\n"
          ]
        }
      ],
      "source": [
        "!git clone https://github.com/GCleuziou/code2aes2vec.git"
      ]
    },
    {
      "cell_type": "markdown",
      "metadata": {
        "id": "Tb-P_HL8ODbT"
      },
      "source": [
        "Load the NewCaledonia_1014 (Attempt) dataset :"
      ]
    },
    {
      "cell_type": "code",
      "execution_count": null,
      "metadata": {
        "id": "liACEoarOC9E"
      },
      "outputs": [],
      "source": [
        "from code2aes2vec.manage import jsonAttempts2data\n",
        "NC1014 = jsonAttempts2data('/content/code2aes2vec/Datasets/NewCaledonia_1014.json')"
      ]
    },
    {
      "cell_type": "markdown",
      "metadata": {
        "id": "GnA8TATiOQDa"
      },
      "source": [
        "Convert string code to python file"
      ]
    },
    {
      "cell_type": "code",
      "execution_count": null,
      "metadata": {
        "id": "bdwH3O-VPCKK"
      },
      "outputs": [],
      "source": [
        "!mkdir NewCaledonie-1014-python-files"
      ]
    },
    {
      "cell_type": "code",
      "execution_count": null,
      "metadata": {
        "id": "ns2HCCT1PJ2h"
      },
      "outputs": [],
      "source": [
        "for i in range(1,len(NC1014)+1):\n",
        "  #open text file\n",
        "  text_file = open(\"/content/NewCaledonie-1014-python-files/program_\"+str(i)+\".py\", \"w\")\n",
        "  \n",
        "  #write string to file\n",
        "  text_file.write(NC1014[i-1]['upload'])\n",
        "  \n",
        "  #close file\n",
        "  text_file.close()"
      ]
    },
    {
      "cell_type": "markdown",
      "metadata": {
        "id": "HIuV5dsmPuEh"
      },
      "source": [
        "# Install & testing infercode model "
      ]
    },
    {
      "cell_type": "code",
      "execution_count": null,
      "metadata": {
        "id": "N2OgVHgjyfX-"
      },
      "outputs": [],
      "source": [
        "!pip3 install infercode"
      ]
    },
    {
      "cell_type": "code",
      "execution_count": null,
      "metadata": {
        "id": "i0fSv_Z9E8PI",
        "colab": {
          "base_uri": "https://localhost:8080/"
        },
        "outputId": "11e1d2b7-8e38-48bc-ce52-0ee210b326c6"
      },
      "outputs": [
        {
          "output_type": "stream",
          "name": "stdout",
          "text": [
            "Looking in indexes: https://pypi.org/simple, https://us-python.pkg.dev/colab-wheels/public/simple/\n",
            "Requirement already satisfied: tree_sitter_parsers in /usr/local/lib/python3.7/dist-packages (0.0.7)\n",
            "Requirement already satisfied: tree-sitter>=0.19.0 in /usr/local/lib/python3.7/dist-packages (from tree_sitter_parsers) (0.20.0)\n"
          ]
        }
      ],
      "source": [
        "!pip install tree_sitter_parsers"
      ]
    },
    {
      "cell_type": "code",
      "execution_count": null,
      "metadata": {
        "id": "Y-20JP-T09sj"
      },
      "outputs": [],
      "source": [
        "import infercode"
      ]
    },
    {
      "cell_type": "code",
      "execution_count": null,
      "metadata": {
        "colab": {
          "base_uri": "https://localhost:8080/"
        },
        "id": "rowKdSFbExzp",
        "outputId": "08b09001-3ee6-46a9-f3c6-fdd8ab1df387"
      },
      "outputs": [
        {
          "output_type": "stream",
          "name": "stderr",
          "text": [
            "Linux.zip: 13.6MB [00:04, 3.30MB/s]\n"
          ]
        }
      ],
      "source": [
        "import tree_sitter_parsers"
      ]
    },
    {
      "cell_type": "markdown",
      "metadata": {
        "id": "IMXakApeQX4D"
      },
      "source": [
        "# Generate code vectors for NC-1014 dataset"
      ]
    },
    {
      "cell_type": "code",
      "execution_count": null,
      "metadata": {
        "id": "QQ5qh_WBRhhl"
      },
      "outputs": [],
      "source": [
        "!mkdir NewCaledonie-1014-code-embeddings"
      ]
    },
    {
      "cell_type": "code",
      "execution_count": null,
      "metadata": {
        "id": "8Bq5GDyVTQiC"
      },
      "outputs": [],
      "source": [
        "def embed_a_program(a,b):\n",
        "  ! infercode $a $b"
      ]
    },
    {
      "cell_type": "markdown",
      "source": [
        "Test Infercode model"
      ],
      "metadata": {
        "id": "GqeIMSh-z3Nm"
      }
    },
    {
      "cell_type": "code",
      "execution_count": null,
      "metadata": {
        "id": "SfFq6TOXTmil"
      },
      "outputs": [],
      "source": [
        "input_filepath_value = \"/content/IsPrime.py\"\n",
        "output_filepath_value = \"/content/IsPrime_vector.txt\"\n",
        "embed_a_program(input_filepath_value, output_filepath_value)"
      ]
    },
    {
      "cell_type": "markdown",
      "source": [
        "Generate code embedding for the NC1014 dataset"
      ],
      "metadata": {
        "id": "AWwKtqx00Eji"
      }
    },
    {
      "cell_type": "code",
      "execution_count": null,
      "metadata": {
        "id": "T0R4EFrpQWue"
      },
      "outputs": [],
      "source": [
        "for i in range(1,len(NC1014)+1): \n",
        "  input_filepath_value = \"NewCaledonie-1014-python-files/program_\"+str(i)+\".py\"\n",
        "  output_filepath_value = \"NewCaledonie-1014-code-embeddings/program_code_embedding_\"+str(i)+\".txt\"\n",
        "  code_vector=embed_a_program(input_filepath_value, output_filepath_value)"
      ]
    },
    {
      "cell_type": "code",
      "source": [
        "!zip -r /content/NewCaledonie-1014-python-files.zip /content/NewCaledonie-1014-python-files/"
      ],
      "metadata": {
        "id": "v_bk19BoNvFi"
      },
      "execution_count": null,
      "outputs": []
    },
    {
      "cell_type": "code",
      "source": [
        "!zip -r /content/NewCaledonie-1014-code-embeddings.zip /content/NewCaledonie-1014-code-embeddings/"
      ],
      "metadata": {
        "id": "gisf6Zz8Nvqs"
      },
      "execution_count": null,
      "outputs": []
    }
  ],
  "metadata": {
    "colab": {
      "collapsed_sections": [
        "OEWmlns1Pfpj"
      ],
      "name": "Infercode_FineTuning.ipynb",
      "provenance": [],
      "authorship_tag": "ABX9TyN6qjf23Jn5CSm+TvepymP8",
      "include_colab_link": true
    },
    "kernelspec": {
      "display_name": "Python 3",
      "name": "python3"
    },
    "language_info": {
      "name": "python"
    },
    "accelerator": "GPU"
  },
  "nbformat": 4,
  "nbformat_minor": 0
}